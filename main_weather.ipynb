{
 "cells": [
  {
   "cell_type": "code",
   "execution_count": 8,
   "metadata": {},
   "outputs": [],
   "source": [
    "from bs4 import BeautifulSoup as BS\n",
    "from selenium import webdriver\n",
    "from functools import reduce\n",
    "import pandas as pd\n",
    "import time\n",
    "import re\n",
    "\n",
    "import asyncio\n",
    "import multiprocessing\n",
    "from concurrent.futures import ProcessPoolExecutor\n",
    "from time import sleep, time\n",
    "\n",
    "import httpx\n",
    "from concurrent.futures.thread import ThreadPoolExecutor\n",
    "import dill as pickle\n",
    "#from pandas_profiling import ProfileReport\n",
    "from selenium.webdriver.chrome.options import Options\n",
    "chrome_options = Options()\n",
    "chrome_options.add_argument(\"--headless\")"
   ]
  },
  {
   "cell_type": "markdown",
   "metadata": {},
   "source": [
    "# Pyspark\n",
    "import findspark\n",
    "findspark.init()\n",
    "\n",
    "import pyspark\n",
    "from pyspark.sql import SparkSession\n",
    "spark = SparkSession.builder.master(\"local[1]\").appName(\"SparkByExamples.com\").getOrCreate()"
   ]
  },
  {
   "cell_type": "code",
   "execution_count": 2,
   "metadata": {},
   "outputs": [],
   "source": [
    "page = 'https://www.wunderground.com/history/monthly/fr/lyon/LFLL/date/'"
   ]
  },
  {
   "cell_type": "code",
   "execution_count": 3,
   "metadata": {},
   "outputs": [
    {
     "name": "stdout",
     "output_type": "stream",
     "text": [
      "['2022-01', '2022-02', '2022-03', '2022-04', '2022-05', '2022-06', '2022-07', '2022-08', '2022-09', '2022-10', '2022-11', '2022-12', '2023-01']\n"
     ]
    }
   ],
   "source": [
    "from datetime import datetime, timedelta\n",
    "\n",
    "def generate_dates(dates):\n",
    "    start_date = datetime.strptime(dates[0], '%Y-%m')\n",
    "    end_date = datetime.strptime(dates[1], '%Y-%m')\n",
    "    current_month = start_date\n",
    "    date_list = []\n",
    "    while current_month < end_date:\n",
    "        date_list.append(current_month.strftime('%Y-%m'))\n",
    "        next_month = current_month + timedelta(days=31)\n",
    "        if next_month.month == current_month.month:\n",
    "            next_month = next_month - timedelta(days=next_month.day)\n",
    "        current_month = next_month\n",
    "    date_list.append(end_date.strftime('%Y-%m'))\n",
    "    return date_list\n",
    "\n",
    "dates = ['2022-1','2023-1']\n",
    "print(generate_dates(dates))"
   ]
  },
  {
   "cell_type": "code",
   "execution_count": 5,
   "metadata": {},
   "outputs": [
    {
     "name": "stdout",
     "output_type": "stream",
     "text": [
      "This machine has 8 CPU cores\n"
     ]
    }
   ],
   "source": [
    "import multiprocessing\n",
    "print(f\"This machine has {multiprocessing.cpu_count()} CPU cores\")"
   ]
  },
  {
   "attachments": {},
   "cell_type": "markdown",
   "metadata": {},
   "source": [
    "## Web scrapping of urls and the source page"
   ]
  },
  {
   "cell_type": "code",
   "execution_count": 6,
   "metadata": {},
   "outputs": [
    {
     "name": "stderr",
     "output_type": "stream",
     "text": [
      "C:\\Users\\ababi\\AppData\\Local\\Temp\\ipykernel_14992\\256667397.py:18: DeprecationWarning: executable_path has been deprecated, please pass in a Service object\n",
      "  driver = webdriver.Chrome(\"./chromedriver\", options=chrome_options)\n"
     ]
    }
   ],
   "source": [
    "\n",
    "page = 'https://www.wunderground.com/history/monthly/fr/lyon/LFLL/date/'\n",
    "\n",
    "dates = ['2020-1','2023-1']\n",
    "urls = []\n",
    "for d in generate_dates(dates):\n",
    "    urls.append(page+d)\n",
    "    \n",
    "executor = ThreadPoolExecutor(13)\n",
    "\n",
    "\n",
    "def scrape(url, *, loop):\n",
    "    loop.run_in_executor(executor, scraper_speed, url)\n",
    "\n",
    "rr = []\n",
    "def scraper_speed(url):\n",
    "    driver = webdriver.Chrome(\"./chromedriver\", options=chrome_options)\n",
    "    driver.get(url)\n",
    "    r = driver.page_source\n",
    "    rr.append(r)\n",
    "    driver.quit()\n",
    "\n",
    "loop = asyncio.get_event_loop()\n",
    "\n",
    "\n",
    "for url in urls:\n",
    "    scrape(url, loop=loop)\n",
    "\n",
    "\n",
    "#loop.run_until_complete(asyncio.gather(*asyncio.all_tasks(loop)))\n"
   ]
  },
  {
   "attachments": {},
   "cell_type": "markdown",
   "metadata": {},
   "source": [
    "**rr = liste de toutes les pages sources**"
   ]
  },
  {
   "cell_type": "code",
   "execution_count": 12,
   "metadata": {},
   "outputs": [
    {
     "data": {
      "text/plain": [
       "37"
      ]
     },
     "execution_count": 12,
     "metadata": {},
     "output_type": "execute_result"
    }
   ],
   "source": [
    "len(rr)"
   ]
  },
  {
   "cell_type": "code",
   "execution_count": 13,
   "metadata": {},
   "outputs": [],
   "source": [
    "liste_de_date = []\n",
    "for i in range(len(rr)):\n",
    "    soup = BS(rr[i], \"html.parser\")\n",
    "    pattern = re.compile(r'https://www.wunderground.com/history/monthly/fr/lyon/LFLL/date/\\d{4}-\\d{2}')\n",
    "    links = soup.find_all('link', href=pattern)\n",
    "    liste_de_date.append(links)"
   ]
  },
  {
   "cell_type": "code",
   "execution_count": 13,
   "metadata": {},
   "outputs": [
    {
     "data": {
      "text/plain": [
       "[<link href=\"https://www.wunderground.com/history/monthly/fr/lyon/LFLL/date/2020-05\" rel=\"canonical\"/>]"
      ]
     },
     "execution_count": 13,
     "metadata": {},
     "output_type": "execute_result"
    }
   ],
   "source": [
    "liste_de_date[0]"
   ]
  },
  {
   "attachments": {},
   "cell_type": "markdown",
   "metadata": {},
   "source": [
    "**Transforme the links in string for a better simulation"
   ]
  },
  {
   "cell_type": "code",
   "execution_count": 14,
   "metadata": {},
   "outputs": [],
   "source": [
    "dates_str = []\n",
    "for links in liste_de_date:\n",
    "    for link in links:\n",
    "        date = link.attrs.get('href').split('/')[-1]\n",
    "        dates_str.append(date)"
   ]
  },
  {
   "cell_type": "code",
   "execution_count": 15,
   "metadata": {},
   "outputs": [
    {
     "data": {
      "text/plain": [
       "37"
      ]
     },
     "execution_count": 15,
     "metadata": {},
     "output_type": "execute_result"
    }
   ],
   "source": [
    "len(dates_str)"
   ]
  },
  {
   "attachments": {},
   "cell_type": "markdown",
   "metadata": {},
   "source": [
    "# Spark scrapping"
   ]
  },
  {
   "attachments": {},
   "cell_type": "markdown",
   "metadata": {},
   "source": [
    "# Code pour scrapper les pages et créer le dataframe"
   ]
  },
  {
   "cell_type": "code",
   "execution_count": 14,
   "metadata": {},
   "outputs": [],
   "source": [
    "# function to scrape wunderground\n",
    "def scraper(liste_de_lien, jours):\n",
    "    output = pd.DataFrame()\n",
    "\n",
    "\n",
    "    for index, lien in enumerate(liste_de_lien):\n",
    "\n",
    "        soup = BS(lien, \"html.parser\")\n",
    "        container = soup.find('lib-city-history-observation')\n",
    "        check = container.find('tbody')\n",
    "\n",
    "        data = []\n",
    "        \n",
    "        for c in check.find_all('tr', class_='ng-star-inserted'):\n",
    "            for i in c.find_all('td', class_='ng-star-inserted'):\n",
    "                trial = i.text\n",
    "                trial = trial.strip('  ')\n",
    "                data.append(trial)\n",
    "                \n",
    "\n",
    "        if round(len(data) / 17 - 1) == jours: \n",
    "            ecart0 = (jours+1)*3\n",
    "            Temperature = pd.DataFrame([data[jours+1:(jours+1)+ecart0][x:x + 3] for x in range(0, len(data[jours+1:(jours+1)+ecart0]), 3)][1:],\n",
    "                                       columns=['Temp_max', 'Temp_avg', 'Temp_min'])\n",
    "            \n",
    "            Dew_Point = pd.DataFrame([data[(jours+1)+ecart0:(jours+1)+ecart0+ecart0][x:x + 3] for x in range(0, len(data[(jours+1)+ecart0:(jours+1)+ecart0+ecart0]), 3)][1:],\n",
    "                                     columns=['Dew_max', 'Dew_avg', 'Dew_min'])\n",
    "            #ecart1 = (((jours+1)*4)+ecart0)\n",
    "            Humidity = pd.DataFrame([data[(jours+1)+ecart0+ecart0:(jours+1)+ecart0+ecart0+ecart0][x:x + 3] for x in range(0, len(data[(jours+1)+ecart0+ecart0:(jours+1)+ecart0+ecart0+ecart0]), 3)][1:],\n",
    "                                    columns=['Hum_max', 'Hum_avg', 'Hum_min'])\n",
    "            Wind = pd.DataFrame([data[(jours+1)+ecart0+ecart0:(jours+1)+ecart0+ecart0+ecart0+ecart0][x:x + 3] for x in range(0, len(data[(jours+1)+ecart0+ecart0+ecart0:(jours+1)+ecart0+ecart0+ecart0+ecart0]), 3)][1:],\n",
    "                                columns=['Wind_max', 'Wind_avg', 'Wind_min'])\n",
    "            Pressure = pd.DataFrame([data[(jours+1)+ecart0+ecart0+ecart0+ecart0:(jours+1)+ecart0+ecart0+ecart0+ecart0+ecart0][x:x + 3] for x in range(0, len(data[(jours+1)+ecart0+ecart0+ecart0+ecart0:(jours+1)+ecart0+ecart0+ecart0+ecart0+ecart0]), 3)][1:],\n",
    "                                    columns=['Pres_max', 'Pres_avg', 'Pres_min'])\n",
    "            Date = pd.DataFrame(data[:jours+1][1:], columns=data[:1])\n",
    "            Precipitation = pd.DataFrame(data[(jours+1)+ecart0+ecart0+ecart0+ecart0+ecart0:][1:], columns=['Precipitation'])\n",
    "                      \n",
    "\n",
    "        if round(len(data) / 17 - 1) == 31:\n",
    "            Temperature = pd.DataFrame([data[32:128][x:x + 3] for x in range(0, len(data[32:128]), 3)][1:],\n",
    "                                       columns=['Temp_max', 'Temp_avg', 'Temp_min'])\n",
    "            Dew_Point = pd.DataFrame([data[128:224][x:x + 3] for x in range(0, len(data[128:224]), 3)][1:],\n",
    "                                     columns=['Dew_max', 'Dew_avg', 'Dew_min'])\n",
    "            Humidity = pd.DataFrame([data[224:320][x:x + 3] for x in range(0, len(data[224:320]), 3)][1:],\n",
    "                                    columns=['Hum_max', 'Hum_avg', 'Hum_min'])\n",
    "            Wind = pd.DataFrame([data[320:416][x:x + 3] for x in range(0, len(data[320:416]), 3)][1:],\n",
    "                                columns=['Wind_max', 'Wind_avg', 'Wind_min'])\n",
    "            Pressure = pd.DataFrame([data[416:512][x:x + 3] for x in range(0, len(data[416:512]), 3)][1:],\n",
    "                                    columns=['Pres_max', 'Pres_avg', 'Pres_min'])\n",
    "            Date = pd.DataFrame(data[:32][1:], columns=data[:1])\n",
    "            Precipitation = pd.DataFrame(data[512:][1:], columns=['Precipitation'])\n",
    "          \n",
    "        elif round(len(data) / 17 - 1) == 28:\n",
    "            Temperature = pd.DataFrame([data[29:116][x:x + 3] for x in range(0, len(data[29:116]), 3)][1:],\n",
    "                                       columns=['Temp_max', 'Temp_avg', 'Temp_min'])\n",
    "            Dew_Point = pd.DataFrame([data[116:203][x:x + 3] for x in range(0, len(data[116:203]), 3)][1:],\n",
    "                                     columns=['Dew_max', 'Dew_avg', 'Dew_min'])\n",
    "            Humidity = pd.DataFrame([data[203:290][x:x + 3] for x in range(0, len(data[203:290]), 3)][1:],\n",
    "                                    columns=['Hum_max', 'Hum_avg', 'Hum_min'])\n",
    "            Wind = pd.DataFrame([data[290:377][x:x + 3] for x in range(0, len(data[290:377]), 3)][1:],\n",
    "                                columns=['Wind_max', 'Wind_avg', 'Wind_min'])\n",
    "            Pressure = pd.DataFrame([data[377:464][x:x + 3] for x in range(0, len(data[377:463]), 3)][1:],\n",
    "                                    columns=['Pres_max', 'Pres_avg', 'Pres_min'])\n",
    "            Date = pd.DataFrame(data[:29][1:], columns=data[:1])\n",
    "            Precipitation = pd.DataFrame(data[464:][1:], columns=['Precipitation'])\n",
    "        elif round(len(data) / 17 - 1) == 29:\n",
    "            Temperature = pd.DataFrame([data[30:120][x:x + 3] for x in range(0, len(data[30:120]), 3)][1:],\n",
    "                                       columns=['Temp_max', 'Temp_avg', 'Temp_min'])\n",
    "            Dew_Point = pd.DataFrame([data[120:210][x:x + 3] for x in range(0, len(data[120:210]), 3)][1:],\n",
    "                                     columns=['Dew_max', 'Dew_avg', 'Dew_min'])\n",
    "            Humidity = pd.DataFrame([data[210:300][x:x + 3] for x in range(0, len(data[210:300]), 3)][1:],\n",
    "                                    columns=['Hum_max', 'Hum_avg', 'Hum_min'])\n",
    "            Wind = pd.DataFrame([data[300:390][x:x + 3] for x in range(0, len(data[300:390]), 3)][1:],\n",
    "                                columns=['Wind_max', 'Wind_avg', 'Wind_min'])\n",
    "            Pressure = pd.DataFrame([data[390:480][x:x + 3] for x in range(0, len(data[390:480]), 3)][1:],\n",
    "                                    columns=['Pres_max', 'Pres_avg', 'Pres_min'])\n",
    "            Date = pd.DataFrame(data[:30][1:], columns=data[:1])\n",
    "            Precipitation = pd.DataFrame(data[480:][1:], columns=['Precipitation'])\n",
    "\n",
    "        elif round(len(data) / 17 - 1) == 30:\n",
    "            Temperature = pd.DataFrame([data[31:124][x:x + 3] for x in range(0, len(data[31:124]), 3)][1:],\n",
    "                                       columns=['Temp_max', 'Temp_avg', 'Temp_min'])\n",
    "            Dew_Point = pd.DataFrame([data[124:217][x:x + 3] for x in range(0, len(data[124:217]), 3)][1:],\n",
    "                                     columns=['Dew_max', 'Dew_avg', 'Dew_min'])\n",
    "            Humidity = pd.DataFrame([data[217:310][x:x + 3] for x in range(0, len(data[217:310]), 3)][1:],\n",
    "                                    columns=['Hum_max', 'Hum_avg', 'Hum_min'])\n",
    "            Wind = pd.DataFrame([data[310:403][x:x + 3] for x in range(0, len(data[310:403]), 3)][1:],\n",
    "                                columns=['Wind_max', 'Wind_avg', 'Wind_min'])\n",
    "            Pressure = pd.DataFrame([data[403:496][x:x + 3] for x in range(0, len(data[403:496]), 3)][1:],\n",
    "                                    columns=['Pres_max', 'Pres_avg', 'Pres_min'])\n",
    "            Date = pd.DataFrame(data[:31][1:], columns=data[:1])\n",
    "            Precipitation = pd.DataFrame(data[496:][1:], columns=['Precipitation'])        \n",
    "        else:\n",
    "            print(len(data) / 17 - 1)\n",
    "\n",
    "            print('Data not in normal length')\n",
    "\n",
    "        dfs = [Date, Temperature, Dew_Point, Humidity, Wind, Pressure, Precipitation]\n",
    "\n",
    "        df_final = reduce(lambda left, right: pd.merge(left, right, left_index=True, right_index=True), dfs)\n",
    "\n",
    "        df_final['Date'] = str(dates_str[index]) + \"-\" + df_final.iloc[:, :1].astype(str)\n",
    "\n",
    "        output = output.append(df_final)\n",
    "\n",
    "    print('Scraper done!')\n",
    "\n",
    "    output = output[['Temp_avg', 'Temp_min', 'Dew_max', 'Dew_avg', 'Dew_min', 'Hum_max',\n",
    "                     'Hum_avg', 'Hum_min', 'Wind_max', 'Wind_avg', 'Wind_min', 'Pres_max',\n",
    "                     'Pres_avg', 'Pres_min', 'Precipitation', 'Date']]\n",
    "\n",
    "    return output"
   ]
  },
  {
   "cell_type": "code",
   "execution_count": null,
   "metadata": {},
   "outputs": [],
   "source": [
    "df_scrap = scraper(rr, 26)"
   ]
  },
  {
   "cell_type": "code",
   "execution_count": 22,
   "metadata": {},
   "outputs": [],
   "source": [
    "df_scrap['Date'] =  pd.to_datetime(df_scrap['Date'], format='%Y-%m-%d')"
   ]
  },
  {
   "cell_type": "code",
   "execution_count": 23,
   "metadata": {},
   "outputs": [],
   "source": [
    "df_scrap = df_scrap.sort_values('Date')"
   ]
  },
  {
   "cell_type": "code",
   "execution_count": 24,
   "metadata": {},
   "outputs": [
    {
     "data": {
      "text/html": [
       "<div>\n",
       "<style scoped>\n",
       "    .dataframe tbody tr th:only-of-type {\n",
       "        vertical-align: middle;\n",
       "    }\n",
       "\n",
       "    .dataframe tbody tr th {\n",
       "        vertical-align: top;\n",
       "    }\n",
       "\n",
       "    .dataframe thead th {\n",
       "        text-align: right;\n",
       "    }\n",
       "</style>\n",
       "<table border=\"1\" class=\"dataframe\">\n",
       "  <thead>\n",
       "    <tr style=\"text-align: right;\">\n",
       "      <th></th>\n",
       "      <th>Temp_avg</th>\n",
       "      <th>Temp_min</th>\n",
       "      <th>Dew_max</th>\n",
       "      <th>Dew_avg</th>\n",
       "      <th>Dew_min</th>\n",
       "      <th>Hum_max</th>\n",
       "      <th>Hum_avg</th>\n",
       "      <th>Hum_min</th>\n",
       "      <th>Wind_max</th>\n",
       "      <th>Wind_avg</th>\n",
       "      <th>Wind_min</th>\n",
       "      <th>Pres_max</th>\n",
       "      <th>Pres_avg</th>\n",
       "      <th>Pres_min</th>\n",
       "      <th>Precipitation</th>\n",
       "      <th>Date</th>\n",
       "    </tr>\n",
       "  </thead>\n",
       "  <tbody>\n",
       "    <tr>\n",
       "      <th>0</th>\n",
       "      <td>30.9</td>\n",
       "      <td>30</td>\n",
       "      <td>32</td>\n",
       "      <td>30.9</td>\n",
       "      <td>30</td>\n",
       "      <td>100</td>\n",
       "      <td>100.0</td>\n",
       "      <td>100</td>\n",
       "      <td>6</td>\n",
       "      <td>2.4</td>\n",
       "      <td>0</td>\n",
       "      <td>29.6</td>\n",
       "      <td>29.6</td>\n",
       "      <td>29.6</td>\n",
       "      <td>0.00</td>\n",
       "      <td>2020-01-01</td>\n",
       "    </tr>\n",
       "    <tr>\n",
       "      <th>1</th>\n",
       "      <td>34.5</td>\n",
       "      <td>30</td>\n",
       "      <td>41</td>\n",
       "      <td>33.7</td>\n",
       "      <td>30</td>\n",
       "      <td>100</td>\n",
       "      <td>96.9</td>\n",
       "      <td>81</td>\n",
       "      <td>9</td>\n",
       "      <td>4.0</td>\n",
       "      <td>0</td>\n",
       "      <td>29.6</td>\n",
       "      <td>29.6</td>\n",
       "      <td>29.5</td>\n",
       "      <td>0.00</td>\n",
       "      <td>2020-01-02</td>\n",
       "    </tr>\n",
       "    <tr>\n",
       "      <th>2</th>\n",
       "      <td>45.0</td>\n",
       "      <td>41</td>\n",
       "      <td>45</td>\n",
       "      <td>41.4</td>\n",
       "      <td>37</td>\n",
       "      <td>100</td>\n",
       "      <td>86.8</td>\n",
       "      <td>76</td>\n",
       "      <td>10</td>\n",
       "      <td>4.5</td>\n",
       "      <td>1</td>\n",
       "      <td>29.6</td>\n",
       "      <td>29.5</td>\n",
       "      <td>29.5</td>\n",
       "      <td>0.00</td>\n",
       "      <td>2020-01-03</td>\n",
       "    </tr>\n",
       "    <tr>\n",
       "      <th>3</th>\n",
       "      <td>43.2</td>\n",
       "      <td>37</td>\n",
       "      <td>45</td>\n",
       "      <td>40.0</td>\n",
       "      <td>34</td>\n",
       "      <td>100</td>\n",
       "      <td>88.3</td>\n",
       "      <td>66</td>\n",
       "      <td>23</td>\n",
       "      <td>9.8</td>\n",
       "      <td>0</td>\n",
       "      <td>29.7</td>\n",
       "      <td>29.6</td>\n",
       "      <td>29.6</td>\n",
       "      <td>0.00</td>\n",
       "      <td>2020-01-04</td>\n",
       "    </tr>\n",
       "    <tr>\n",
       "      <th>4</th>\n",
       "      <td>36.4</td>\n",
       "      <td>30</td>\n",
       "      <td>37</td>\n",
       "      <td>33.6</td>\n",
       "      <td>30</td>\n",
       "      <td>100</td>\n",
       "      <td>90.0</td>\n",
       "      <td>76</td>\n",
       "      <td>10</td>\n",
       "      <td>5.3</td>\n",
       "      <td>0</td>\n",
       "      <td>29.7</td>\n",
       "      <td>29.7</td>\n",
       "      <td>29.6</td>\n",
       "      <td>0.00</td>\n",
       "      <td>2020-01-05</td>\n",
       "    </tr>\n",
       "    <tr>\n",
       "      <th>...</th>\n",
       "      <td>...</td>\n",
       "      <td>...</td>\n",
       "      <td>...</td>\n",
       "      <td>...</td>\n",
       "      <td>...</td>\n",
       "      <td>...</td>\n",
       "      <td>...</td>\n",
       "      <td>...</td>\n",
       "      <td>...</td>\n",
       "      <td>...</td>\n",
       "      <td>...</td>\n",
       "      <td>...</td>\n",
       "      <td>...</td>\n",
       "      <td>...</td>\n",
       "      <td>...</td>\n",
       "      <td>...</td>\n",
       "    </tr>\n",
       "    <tr>\n",
       "      <th>21</th>\n",
       "      <td>32.0</td>\n",
       "      <td>30</td>\n",
       "      <td>28</td>\n",
       "      <td>26.4</td>\n",
       "      <td>25</td>\n",
       "      <td>86</td>\n",
       "      <td>79.3</td>\n",
       "      <td>70</td>\n",
       "      <td>86</td>\n",
       "      <td>79.3</td>\n",
       "      <td>70</td>\n",
       "      <td>29.4</td>\n",
       "      <td>29.4</td>\n",
       "      <td>29.3</td>\n",
       "      <td>0.00</td>\n",
       "      <td>2023-01-22</td>\n",
       "    </tr>\n",
       "    <tr>\n",
       "      <th>22</th>\n",
       "      <td>34.7</td>\n",
       "      <td>32</td>\n",
       "      <td>30</td>\n",
       "      <td>27.9</td>\n",
       "      <td>27</td>\n",
       "      <td>87</td>\n",
       "      <td>78.4</td>\n",
       "      <td>70</td>\n",
       "      <td>87</td>\n",
       "      <td>78.4</td>\n",
       "      <td>70</td>\n",
       "      <td>29.4</td>\n",
       "      <td>29.4</td>\n",
       "      <td>29.4</td>\n",
       "      <td>0.00</td>\n",
       "      <td>2023-01-23</td>\n",
       "    </tr>\n",
       "    <tr>\n",
       "      <th>23</th>\n",
       "      <td>36.1</td>\n",
       "      <td>34</td>\n",
       "      <td>34</td>\n",
       "      <td>31.5</td>\n",
       "      <td>30</td>\n",
       "      <td>93</td>\n",
       "      <td>83.5</td>\n",
       "      <td>75</td>\n",
       "      <td>93</td>\n",
       "      <td>83.5</td>\n",
       "      <td>75</td>\n",
       "      <td>29.6</td>\n",
       "      <td>29.5</td>\n",
       "      <td>29.4</td>\n",
       "      <td>0.00</td>\n",
       "      <td>2023-01-24</td>\n",
       "    </tr>\n",
       "    <tr>\n",
       "      <th>24</th>\n",
       "      <td>36.5</td>\n",
       "      <td>36</td>\n",
       "      <td>34</td>\n",
       "      <td>32.0</td>\n",
       "      <td>28</td>\n",
       "      <td>93</td>\n",
       "      <td>83.9</td>\n",
       "      <td>70</td>\n",
       "      <td>93</td>\n",
       "      <td>83.9</td>\n",
       "      <td>70</td>\n",
       "      <td>29.6</td>\n",
       "      <td>29.5</td>\n",
       "      <td>29.4</td>\n",
       "      <td>0.00</td>\n",
       "      <td>2023-01-25</td>\n",
       "    </tr>\n",
       "    <tr>\n",
       "      <th>25</th>\n",
       "      <td>36.0</td>\n",
       "      <td>36</td>\n",
       "      <td>34</td>\n",
       "      <td>31.9</td>\n",
       "      <td>30</td>\n",
       "      <td>93</td>\n",
       "      <td>86.8</td>\n",
       "      <td>81</td>\n",
       "      <td>93</td>\n",
       "      <td>86.8</td>\n",
       "      <td>81</td>\n",
       "      <td>29.4</td>\n",
       "      <td>29.3</td>\n",
       "      <td>29.2</td>\n",
       "      <td>0.00</td>\n",
       "      <td>2023-01-26</td>\n",
       "    </tr>\n",
       "  </tbody>\n",
       "</table>\n",
       "<p>1122 rows × 16 columns</p>\n",
       "</div>"
      ],
      "text/plain": [
       "   Temp_avg Temp_min Dew_max Dew_avg Dew_min Hum_max Hum_avg Hum_min Wind_max  \\\n",
       "0      30.9       30      32    30.9      30     100   100.0     100        6   \n",
       "1      34.5       30      41    33.7      30     100    96.9      81        9   \n",
       "2      45.0       41      45    41.4      37     100    86.8      76       10   \n",
       "3      43.2       37      45    40.0      34     100    88.3      66       23   \n",
       "4      36.4       30      37    33.6      30     100    90.0      76       10   \n",
       "..      ...      ...     ...     ...     ...     ...     ...     ...      ...   \n",
       "21     32.0       30      28    26.4      25      86    79.3      70       86   \n",
       "22     34.7       32      30    27.9      27      87    78.4      70       87   \n",
       "23     36.1       34      34    31.5      30      93    83.5      75       93   \n",
       "24     36.5       36      34    32.0      28      93    83.9      70       93   \n",
       "25     36.0       36      34    31.9      30      93    86.8      81       93   \n",
       "\n",
       "   Wind_avg Wind_min Pres_max Pres_avg Pres_min Precipitation       Date  \n",
       "0       2.4        0     29.6     29.6     29.6          0.00 2020-01-01  \n",
       "1       4.0        0     29.6     29.6     29.5          0.00 2020-01-02  \n",
       "2       4.5        1     29.6     29.5     29.5          0.00 2020-01-03  \n",
       "3       9.8        0     29.7     29.6     29.6          0.00 2020-01-04  \n",
       "4       5.3        0     29.7     29.7     29.6          0.00 2020-01-05  \n",
       "..      ...      ...      ...      ...      ...           ...        ...  \n",
       "21     79.3       70     29.4     29.4     29.3          0.00 2023-01-22  \n",
       "22     78.4       70     29.4     29.4     29.4          0.00 2023-01-23  \n",
       "23     83.5       75     29.6     29.5     29.4          0.00 2023-01-24  \n",
       "24     83.9       70     29.6     29.5     29.4          0.00 2023-01-25  \n",
       "25     86.8       81     29.4     29.3     29.2          0.00 2023-01-26  \n",
       "\n",
       "[1122 rows x 16 columns]"
      ]
     },
     "execution_count": 24,
     "metadata": {},
     "output_type": "execute_result"
    }
   ],
   "source": [
    "df_scrap"
   ]
  },
  {
   "cell_type": "markdown",
   "metadata": {},
   "source": [
    "# Time series"
   ]
  },
  {
   "attachments": {},
   "cell_type": "markdown",
   "metadata": {},
   "source": [
    "## Feature engeneering in Pyspark**"
   ]
  },
  {
   "cell_type": "code",
   "execution_count": null,
   "metadata": {},
   "outputs": [],
   "source": [
    "from pyspark.sql.functions import col\n",
    "df_scrap = df_scrap.withColumn(\"Temp_avg\", col(\"Temp_avg\").cast(\"float\"))"
   ]
  },
  {
   "cell_type": "code",
   "execution_count": 33,
   "metadata": {},
   "outputs": [],
   "source": [
    "df_scrap = df_scrap.sort(\"Date\")\n",
    "\n",
    "from pyspark.sql.functions import percent_rank\n",
    "from pyspark.sql import Window\n",
    "\n",
    "df_scrap = df_scrap.withColumn(\"rank\", percent_rank().over(Window.partitionBy().orderBy(\"Date\")))"
   ]
  },
  {
   "cell_type": "code",
   "execution_count": 34,
   "metadata": {},
   "outputs": [
    {
     "data": {
      "text/plain": [
       "897"
      ]
     },
     "execution_count": 34,
     "metadata": {},
     "output_type": "execute_result"
    }
   ],
   "source": [
    "train_df = df_scrap.where(\"rank <= .8\").drop(\"rank\")\n",
    "train_df.count()"
   ]
  },
  {
   "cell_type": "code",
   "execution_count": 35,
   "metadata": {},
   "outputs": [
    {
     "data": {
      "text/plain": [
       "224"
      ]
     },
     "execution_count": 35,
     "metadata": {},
     "output_type": "execute_result"
    }
   ],
   "source": [
    "test_df = df_scrap.where(\"rank > .8\").drop(\"rank\")\n",
    "test_df.count()"
   ]
  },
  {
   "attachments": {},
   "cell_type": "markdown",
   "metadata": {},
   "source": [
    "## Feature engeneering in Pandas**"
   ]
  },
  {
   "cell_type": "code",
   "execution_count": 203,
   "metadata": {},
   "outputs": [],
   "source": [
    "df_scrap['Temp_avg'] = df_scrap['Temp_avg'].astype(float)"
   ]
  },
  {
   "cell_type": "code",
   "execution_count": 204,
   "metadata": {},
   "outputs": [],
   "source": [
    "train = df_scrap[:int(len(df_scrap)*0.8)]\n",
    "test = df_scrap[int(len(df_scrap)*0.8):]"
   ]
  },
  {
   "cell_type": "code",
   "execution_count": 27,
   "metadata": {},
   "outputs": [],
   "source": [
    "# XGB"
   ]
  },
  {
   "cell_type": "code",
   "execution_count": 36,
   "metadata": {},
   "outputs": [],
   "source": [
    "train_df = train_df.withColumnRenamed(\"Date\", \"index1\").drop(\"Date\")\n",
    "train_df = train_df.selectExpr(\"*\", \"index1 as index\").drop(\"index1\")\n",
    "\n",
    "test_df = test_df.withColumnRenamed(\"Date\", \"index1\").drop(\"Date\")\n",
    "test_df = test_df.selectExpr(\"*\", \"index1 as index\").drop(\"index1\")"
   ]
  },
  {
   "cell_type": "code",
   "execution_count": 209,
   "metadata": {},
   "outputs": [],
   "source": [
    "train.index = train['Date']\n",
    "test.index = test['Date']"
   ]
  },
  {
   "cell_type": "code",
   "execution_count": 205,
   "metadata": {},
   "outputs": [],
   "source": [
    "import matplotlib.pyplot as plt\n",
    "import numpy as np\n",
    "from matplotlib.pyplot import figure"
   ]
  },
  {
   "attachments": {},
   "cell_type": "markdown",
   "metadata": {},
   "source": [
    "# Pyspark"
   ]
  },
  {
   "cell_type": "code",
   "execution_count": null,
   "metadata": {},
   "outputs": [],
   "source": [
    "figure(figsize=(15,6),dpi=80)\n",
    "\n",
    "train_rdd = train_df.select(\"index\", \"Temp_avg\").rdd.map(lambda row: (row[0], row[1]))\n",
    "test_rdd = test_df.select(\"index\", \"Temp_avg\").rdd.map(lambda row: (row[0], row[1]))\n",
    "\n",
    "# Convertir l'RDD en un tableau numpy\n",
    "train_arr = np.array(train_rdd.collect())\n",
    "test_arr = np.array(test_rdd.collect())\n",
    "\n",
    "# Tracer le graphique\n",
    "plt.plot(train_arr[:,0], train_arr[:,1], label='Training Set')#, title='Data Train/Test Split')\n",
    "plt.plot(test_arr[:,0], test_arr[:,1], label='Test Set')#, title='Data Train/Test Split')\n",
    "\n",
    "plt.xlabel('Date')\n",
    "plt.ylabel('Temp_avg')\n",
    "plt.legend()\n",
    "plt.show()"
   ]
  },
  {
   "cell_type": "code",
   "execution_count": 138,
   "metadata": {},
   "outputs": [
    {
     "data": {
      "text/html": [
       "<div>\n",
       "<style scoped>\n",
       "    .dataframe tbody tr th:only-of-type {\n",
       "        vertical-align: middle;\n",
       "    }\n",
       "\n",
       "    .dataframe tbody tr th {\n",
       "        vertical-align: top;\n",
       "    }\n",
       "\n",
       "    .dataframe thead th {\n",
       "        text-align: right;\n",
       "    }\n",
       "</style>\n",
       "<table border=\"1\" class=\"dataframe\">\n",
       "  <thead>\n",
       "    <tr style=\"text-align: right;\">\n",
       "      <th></th>\n",
       "      <th>Temp_avg</th>\n",
       "      <th>Temp_min</th>\n",
       "      <th>Dew_max</th>\n",
       "      <th>Dew_avg</th>\n",
       "      <th>Dew_min</th>\n",
       "      <th>Hum_max</th>\n",
       "      <th>Hum_avg</th>\n",
       "      <th>Hum_min</th>\n",
       "      <th>Wind_max</th>\n",
       "      <th>Wind_avg</th>\n",
       "      <th>Wind_min</th>\n",
       "      <th>Pres_max</th>\n",
       "      <th>Pres_avg</th>\n",
       "      <th>Pres_min</th>\n",
       "      <th>Precipitation</th>\n",
       "      <th>Date</th>\n",
       "    </tr>\n",
       "    <tr>\n",
       "      <th>Date</th>\n",
       "      <th></th>\n",
       "      <th></th>\n",
       "      <th></th>\n",
       "      <th></th>\n",
       "      <th></th>\n",
       "      <th></th>\n",
       "      <th></th>\n",
       "      <th></th>\n",
       "      <th></th>\n",
       "      <th></th>\n",
       "      <th></th>\n",
       "      <th></th>\n",
       "      <th></th>\n",
       "      <th></th>\n",
       "      <th></th>\n",
       "      <th></th>\n",
       "    </tr>\n",
       "  </thead>\n",
       "  <tbody>\n",
       "    <tr>\n",
       "      <th>2020-01-01</th>\n",
       "      <td>30.9</td>\n",
       "      <td>30</td>\n",
       "      <td>32</td>\n",
       "      <td>30.9</td>\n",
       "      <td>30</td>\n",
       "      <td>100</td>\n",
       "      <td>100.0</td>\n",
       "      <td>100</td>\n",
       "      <td>6</td>\n",
       "      <td>2.4</td>\n",
       "      <td>0</td>\n",
       "      <td>29.6</td>\n",
       "      <td>29.6</td>\n",
       "      <td>29.6</td>\n",
       "      <td>0.00</td>\n",
       "      <td>2020-01-01</td>\n",
       "    </tr>\n",
       "    <tr>\n",
       "      <th>2020-01-02</th>\n",
       "      <td>34.5</td>\n",
       "      <td>30</td>\n",
       "      <td>41</td>\n",
       "      <td>33.7</td>\n",
       "      <td>30</td>\n",
       "      <td>100</td>\n",
       "      <td>96.9</td>\n",
       "      <td>81</td>\n",
       "      <td>9</td>\n",
       "      <td>4.0</td>\n",
       "      <td>0</td>\n",
       "      <td>29.6</td>\n",
       "      <td>29.6</td>\n",
       "      <td>29.5</td>\n",
       "      <td>0.00</td>\n",
       "      <td>2020-01-02</td>\n",
       "    </tr>\n",
       "    <tr>\n",
       "      <th>2020-01-03</th>\n",
       "      <td>45.0</td>\n",
       "      <td>41</td>\n",
       "      <td>45</td>\n",
       "      <td>41.4</td>\n",
       "      <td>37</td>\n",
       "      <td>100</td>\n",
       "      <td>86.8</td>\n",
       "      <td>76</td>\n",
       "      <td>10</td>\n",
       "      <td>4.5</td>\n",
       "      <td>1</td>\n",
       "      <td>29.6</td>\n",
       "      <td>29.5</td>\n",
       "      <td>29.5</td>\n",
       "      <td>0.00</td>\n",
       "      <td>2020-01-03</td>\n",
       "    </tr>\n",
       "    <tr>\n",
       "      <th>2020-01-04</th>\n",
       "      <td>43.2</td>\n",
       "      <td>37</td>\n",
       "      <td>45</td>\n",
       "      <td>40.0</td>\n",
       "      <td>34</td>\n",
       "      <td>100</td>\n",
       "      <td>88.3</td>\n",
       "      <td>66</td>\n",
       "      <td>23</td>\n",
       "      <td>9.8</td>\n",
       "      <td>0</td>\n",
       "      <td>29.7</td>\n",
       "      <td>29.6</td>\n",
       "      <td>29.6</td>\n",
       "      <td>0.00</td>\n",
       "      <td>2020-01-04</td>\n",
       "    </tr>\n",
       "    <tr>\n",
       "      <th>2020-01-05</th>\n",
       "      <td>36.4</td>\n",
       "      <td>30</td>\n",
       "      <td>37</td>\n",
       "      <td>33.6</td>\n",
       "      <td>30</td>\n",
       "      <td>100</td>\n",
       "      <td>90.0</td>\n",
       "      <td>76</td>\n",
       "      <td>10</td>\n",
       "      <td>5.3</td>\n",
       "      <td>0</td>\n",
       "      <td>29.7</td>\n",
       "      <td>29.7</td>\n",
       "      <td>29.6</td>\n",
       "      <td>0.00</td>\n",
       "      <td>2020-01-05</td>\n",
       "    </tr>\n",
       "    <tr>\n",
       "      <th>...</th>\n",
       "      <td>...</td>\n",
       "      <td>...</td>\n",
       "      <td>...</td>\n",
       "      <td>...</td>\n",
       "      <td>...</td>\n",
       "      <td>...</td>\n",
       "      <td>...</td>\n",
       "      <td>...</td>\n",
       "      <td>...</td>\n",
       "      <td>...</td>\n",
       "      <td>...</td>\n",
       "      <td>...</td>\n",
       "      <td>...</td>\n",
       "      <td>...</td>\n",
       "      <td>...</td>\n",
       "      <td>...</td>\n",
       "    </tr>\n",
       "    <tr>\n",
       "      <th>2022-06-11</th>\n",
       "      <td>71.3</td>\n",
       "      <td>57</td>\n",
       "      <td>54</td>\n",
       "      <td>51.4</td>\n",
       "      <td>48</td>\n",
       "      <td>82</td>\n",
       "      <td>52.1</td>\n",
       "      <td>28</td>\n",
       "      <td>13</td>\n",
       "      <td>5.8</td>\n",
       "      <td>0</td>\n",
       "      <td>29.4</td>\n",
       "      <td>29.3</td>\n",
       "      <td>29.3</td>\n",
       "      <td>0.00</td>\n",
       "      <td>2022-06-11</td>\n",
       "    </tr>\n",
       "    <tr>\n",
       "      <th>2022-06-12</th>\n",
       "      <td>75.8</td>\n",
       "      <td>63</td>\n",
       "      <td>61</td>\n",
       "      <td>55.1</td>\n",
       "      <td>52</td>\n",
       "      <td>77</td>\n",
       "      <td>50.9</td>\n",
       "      <td>29</td>\n",
       "      <td>10</td>\n",
       "      <td>4.7</td>\n",
       "      <td>0</td>\n",
       "      <td>29.3</td>\n",
       "      <td>29.3</td>\n",
       "      <td>29.2</td>\n",
       "      <td>0.00</td>\n",
       "      <td>2022-06-12</td>\n",
       "    </tr>\n",
       "    <tr>\n",
       "      <th>2022-06-13</th>\n",
       "      <td>72.8</td>\n",
       "      <td>64</td>\n",
       "      <td>61</td>\n",
       "      <td>55.1</td>\n",
       "      <td>45</td>\n",
       "      <td>88</td>\n",
       "      <td>56.6</td>\n",
       "      <td>30</td>\n",
       "      <td>18</td>\n",
       "      <td>10.8</td>\n",
       "      <td>1</td>\n",
       "      <td>29.3</td>\n",
       "      <td>29.3</td>\n",
       "      <td>29.2</td>\n",
       "      <td>0.00</td>\n",
       "      <td>2022-06-13</td>\n",
       "    </tr>\n",
       "    <tr>\n",
       "      <th>2022-06-14</th>\n",
       "      <td>71.8</td>\n",
       "      <td>55</td>\n",
       "      <td>55</td>\n",
       "      <td>50.1</td>\n",
       "      <td>46</td>\n",
       "      <td>72</td>\n",
       "      <td>48.2</td>\n",
       "      <td>31</td>\n",
       "      <td>8</td>\n",
       "      <td>4.2</td>\n",
       "      <td>1</td>\n",
       "      <td>29.3</td>\n",
       "      <td>29.2</td>\n",
       "      <td>29.1</td>\n",
       "      <td>0.00</td>\n",
       "      <td>2022-06-14</td>\n",
       "    </tr>\n",
       "    <tr>\n",
       "      <th>2022-06-15</th>\n",
       "      <td>80.2</td>\n",
       "      <td>70</td>\n",
       "      <td>61</td>\n",
       "      <td>57.4</td>\n",
       "      <td>54</td>\n",
       "      <td>64</td>\n",
       "      <td>46.9</td>\n",
       "      <td>28</td>\n",
       "      <td>17</td>\n",
       "      <td>8.5</td>\n",
       "      <td>0</td>\n",
       "      <td>29.2</td>\n",
       "      <td>29.2</td>\n",
       "      <td>29.2</td>\n",
       "      <td>0.00</td>\n",
       "      <td>2022-06-15</td>\n",
       "    </tr>\n",
       "  </tbody>\n",
       "</table>\n",
       "<p>897 rows × 16 columns</p>\n",
       "</div>"
      ],
      "text/plain": [
       "            Temp_avg Temp_min Dew_max Dew_avg Dew_min Hum_max Hum_avg Hum_min  \\\n",
       "Date                                                                            \n",
       "2020-01-01      30.9       30      32    30.9      30     100   100.0     100   \n",
       "2020-01-02      34.5       30      41    33.7      30     100    96.9      81   \n",
       "2020-01-03      45.0       41      45    41.4      37     100    86.8      76   \n",
       "2020-01-04      43.2       37      45    40.0      34     100    88.3      66   \n",
       "2020-01-05      36.4       30      37    33.6      30     100    90.0      76   \n",
       "...              ...      ...     ...     ...     ...     ...     ...     ...   \n",
       "2022-06-11      71.3       57      54    51.4      48      82    52.1      28   \n",
       "2022-06-12      75.8       63      61    55.1      52      77    50.9      29   \n",
       "2022-06-13      72.8       64      61    55.1      45      88    56.6      30   \n",
       "2022-06-14      71.8       55      55    50.1      46      72    48.2      31   \n",
       "2022-06-15      80.2       70      61    57.4      54      64    46.9      28   \n",
       "\n",
       "           Wind_max Wind_avg Wind_min Pres_max Pres_avg Pres_min  \\\n",
       "Date                                                               \n",
       "2020-01-01        6      2.4        0     29.6     29.6     29.6   \n",
       "2020-01-02        9      4.0        0     29.6     29.6     29.5   \n",
       "2020-01-03       10      4.5        1     29.6     29.5     29.5   \n",
       "2020-01-04       23      9.8        0     29.7     29.6     29.6   \n",
       "2020-01-05       10      5.3        0     29.7     29.7     29.6   \n",
       "...             ...      ...      ...      ...      ...      ...   \n",
       "2022-06-11       13      5.8        0     29.4     29.3     29.3   \n",
       "2022-06-12       10      4.7        0     29.3     29.3     29.2   \n",
       "2022-06-13       18     10.8        1     29.3     29.3     29.2   \n",
       "2022-06-14        8      4.2        1     29.3     29.2     29.1   \n",
       "2022-06-15       17      8.5        0     29.2     29.2     29.2   \n",
       "\n",
       "           Precipitation       Date  \n",
       "Date                                 \n",
       "2020-01-01          0.00 2020-01-01  \n",
       "2020-01-02          0.00 2020-01-02  \n",
       "2020-01-03          0.00 2020-01-03  \n",
       "2020-01-04          0.00 2020-01-04  \n",
       "2020-01-05          0.00 2020-01-05  \n",
       "...                  ...        ...  \n",
       "2022-06-11          0.00 2022-06-11  \n",
       "2022-06-12          0.00 2022-06-12  \n",
       "2022-06-13          0.00 2022-06-13  \n",
       "2022-06-14          0.00 2022-06-14  \n",
       "2022-06-15          0.00 2022-06-15  \n",
       "\n",
       "[897 rows x 16 columns]"
      ]
     },
     "execution_count": 138,
     "metadata": {},
     "output_type": "execute_result"
    }
   ],
   "source": [
    "train"
   ]
  },
  {
   "cell_type": "code",
   "execution_count": 210,
   "metadata": {},
   "outputs": [
    {
     "data": {
      "image/png": "[encoded data removed]",
      "text/plain": [
       "<Figure size 1500x500 with 1 Axes>"
      ]
     },
     "metadata": {},
     "output_type": "display_data"
    }
   ],
   "source": [
    "\n",
    "fig, ax = plt.subplots(figsize=(15, 5))\n",
    "train['Temp_avg'].plot(ax=ax, label='Training Set', title='Data Train/Test Split')\n",
    "test['Temp_avg'].plot(ax=ax, label='Test Set')\n",
    "ax.axvline('2022-06-15', color='black', ls='--')\n",
    "ax.legend(['Training Set', 'Test Set'])\n",
    "plt.show()"
   ]
  },
  {
   "attachments": {},
   "cell_type": "markdown",
   "metadata": {},
   "source": [
    "# Pyspark"
   ]
  },
  {
   "cell_type": "code",
   "execution_count": null,
   "metadata": {},
   "outputs": [],
   "source": [
    "from pyspark.sql.functions import dayofweek, quarter, month, year, dayofyear, dayofmonth, weekofyear\n",
    "\n",
    "def create_features(df):\n",
    "    \"\"\"\n",
    "    Create time series features based on time series index.\n",
    "    \"\"\"\n",
    "    df2 = df.withColumn(\"dayofweek\", dayofweek(df.index)) \\\n",
    "            .withColumn(\"quarter\", quarter(df.index)) \\\n",
    "            .withColumn(\"month\", month(df.index)) \\\n",
    "            .withColumn(\"year\", year(df.index)) \\\n",
    "            .withColumn(\"dayofyear\", dayofyear(df.index)) \\\n",
    "            .withColumn(\"dayofmonth\", dayofmonth(df.index)) \\\n",
    "            .withColumn(\"weekofyear\", weekofyear(df.index))\n",
    "    return df2\n",
    "\n",
    "\n",
    "train_df = create_features(train_df)\n",
    "test_df = create_features(test_df)"
   ]
  },
  {
   "cell_type": "markdown",
   "metadata": {},
   "source": [
    "train_spark = spark.createDataFrame(train)\n",
    "test_spark = spark.createDataFrame(test)"
   ]
  },
  {
   "cell_type": "code",
   "execution_count": 40,
   "metadata": {},
   "outputs": [],
   "source": [
    "from pyspark.sql.functions import *\n",
    "\n",
    "FEATURES = ['dayofyear', 'dayofweek', 'quarter', 'month', 'year']\n",
    "TARGET = 'Temp_avg'\n",
    "\n",
    "X_train = train_df.select(*FEATURES)\n",
    "y_train = train_df.select(TARGET)\n",
    "\n",
    "X_test = test_df.select(*FEATURES)\n",
    "y_test = test_df.select(TARGET)\n"
   ]
  },
  {
   "attachments": {},
   "cell_type": "markdown",
   "metadata": {},
   "source": [
    "**Create features in Pandas**"
   ]
  },
  {
   "cell_type": "code",
   "execution_count": 211,
   "metadata": {},
   "outputs": [],
   "source": [
    "#train_t = train['Temp_avg']\n",
    "#test_t = test['Temp_avg']\n",
    "\n",
    "def create_features(df):\n",
    "    \"\"\"\n",
    "    Create time series features based on time series index.\n",
    "    \"\"\"\n",
    "    df = df.copy()\n",
    "    df['dayofweek'] = df.index.dayofweek\n",
    "    df['quarter'] = df.index.quarter\n",
    "    df['month'] = df.index.month\n",
    "    df['year'] = df.index.year\n",
    "    df['dayofyear'] = df.index.dayofyear\n",
    "    df['dayofmonth'] = df.index.day\n",
    "    df['weekofyear'] = df.index.isocalendar().week\n",
    "    return df\n",
    "\n",
    "#train_t = create_features(train)\n"
   ]
  },
  {
   "cell_type": "code",
   "execution_count": 212,
   "metadata": {},
   "outputs": [],
   "source": [
    "train_t = create_features(train)\n",
    "test_t = create_features(test)\n",
    "\n",
    "FEATURES = ['dayofyear', 'dayofweek', 'quarter', 'month', 'year']\n",
    "TARGET = 'Temp_avg'\n",
    "\n",
    "X_train = train_t[FEATURES]\n",
    "y_train = train_t[TARGET]\n",
    "\n",
    "X_test = test_t[FEATURES]\n",
    "y_test = test_t[TARGET]"
   ]
  },
  {
   "cell_type": "code",
   "execution_count": 213,
   "metadata": {},
   "outputs": [
    {
     "data": {
      "text/html": [
       "<div>\n",
       "<style scoped>\n",
       "    .dataframe tbody tr th:only-of-type {\n",
       "        vertical-align: middle;\n",
       "    }\n",
       "\n",
       "    .dataframe tbody tr th {\n",
       "        vertical-align: top;\n",
       "    }\n",
       "\n",
       "    .dataframe thead th {\n",
       "        text-align: right;\n",
       "    }\n",
       "</style>\n",
       "<table border=\"1\" class=\"dataframe\">\n",
       "  <thead>\n",
       "    <tr style=\"text-align: right;\">\n",
       "      <th></th>\n",
       "      <th>dayofyear</th>\n",
       "      <th>dayofweek</th>\n",
       "      <th>quarter</th>\n",
       "      <th>month</th>\n",
       "      <th>year</th>\n",
       "    </tr>\n",
       "    <tr>\n",
       "      <th>Date</th>\n",
       "      <th></th>\n",
       "      <th></th>\n",
       "      <th></th>\n",
       "      <th></th>\n",
       "      <th></th>\n",
       "    </tr>\n",
       "  </thead>\n",
       "  <tbody>\n",
       "    <tr>\n",
       "      <th>2020-01-01</th>\n",
       "      <td>1</td>\n",
       "      <td>2</td>\n",
       "      <td>1</td>\n",
       "      <td>1</td>\n",
       "      <td>2020</td>\n",
       "    </tr>\n",
       "    <tr>\n",
       "      <th>2020-01-02</th>\n",
       "      <td>2</td>\n",
       "      <td>3</td>\n",
       "      <td>1</td>\n",
       "      <td>1</td>\n",
       "      <td>2020</td>\n",
       "    </tr>\n",
       "    <tr>\n",
       "      <th>2020-01-03</th>\n",
       "      <td>3</td>\n",
       "      <td>4</td>\n",
       "      <td>1</td>\n",
       "      <td>1</td>\n",
       "      <td>2020</td>\n",
       "    </tr>\n",
       "    <tr>\n",
       "      <th>2020-01-04</th>\n",
       "      <td>4</td>\n",
       "      <td>5</td>\n",
       "      <td>1</td>\n",
       "      <td>1</td>\n",
       "      <td>2020</td>\n",
       "    </tr>\n",
       "    <tr>\n",
       "      <th>2020-01-05</th>\n",
       "      <td>5</td>\n",
       "      <td>6</td>\n",
       "      <td>1</td>\n",
       "      <td>1</td>\n",
       "      <td>2020</td>\n",
       "    </tr>\n",
       "    <tr>\n",
       "      <th>...</th>\n",
       "      <td>...</td>\n",
       "      <td>...</td>\n",
       "      <td>...</td>\n",
       "      <td>...</td>\n",
       "      <td>...</td>\n",
       "    </tr>\n",
       "    <tr>\n",
       "      <th>2022-06-11</th>\n",
       "      <td>162</td>\n",
       "      <td>5</td>\n",
       "      <td>2</td>\n",
       "      <td>6</td>\n",
       "      <td>2022</td>\n",
       "    </tr>\n",
       "    <tr>\n",
       "      <th>2022-06-12</th>\n",
       "      <td>163</td>\n",
       "      <td>6</td>\n",
       "      <td>2</td>\n",
       "      <td>6</td>\n",
       "      <td>2022</td>\n",
       "    </tr>\n",
       "    <tr>\n",
       "      <th>2022-06-13</th>\n",
       "      <td>164</td>\n",
       "      <td>0</td>\n",
       "      <td>2</td>\n",
       "      <td>6</td>\n",
       "      <td>2022</td>\n",
       "    </tr>\n",
       "    <tr>\n",
       "      <th>2022-06-14</th>\n",
       "      <td>165</td>\n",
       "      <td>1</td>\n",
       "      <td>2</td>\n",
       "      <td>6</td>\n",
       "      <td>2022</td>\n",
       "    </tr>\n",
       "    <tr>\n",
       "      <th>2022-06-15</th>\n",
       "      <td>166</td>\n",
       "      <td>2</td>\n",
       "      <td>2</td>\n",
       "      <td>6</td>\n",
       "      <td>2022</td>\n",
       "    </tr>\n",
       "  </tbody>\n",
       "</table>\n",
       "<p>897 rows × 5 columns</p>\n",
       "</div>"
      ],
      "text/plain": [
       "            dayofyear  dayofweek  quarter  month  year\n",
       "Date                                                  \n",
       "2020-01-01          1          2        1      1  2020\n",
       "2020-01-02          2          3        1      1  2020\n",
       "2020-01-03          3          4        1      1  2020\n",
       "2020-01-04          4          5        1      1  2020\n",
       "2020-01-05          5          6        1      1  2020\n",
       "...               ...        ...      ...    ...   ...\n",
       "2022-06-11        162          5        2      6  2022\n",
       "2022-06-12        163          6        2      6  2022\n",
       "2022-06-13        164          0        2      6  2022\n",
       "2022-06-14        165          1        2      6  2022\n",
       "2022-06-15        166          2        2      6  2022\n",
       "\n",
       "[897 rows x 5 columns]"
      ]
     },
     "execution_count": 213,
     "metadata": {},
     "output_type": "execute_result"
    }
   ],
   "source": [
    "X_train"
   ]
  },
  {
   "cell_type": "code",
   "execution_count": 177,
   "metadata": {},
   "outputs": [],
   "source": [
    "#pip install xgboost"
   ]
  },
  {
   "cell_type": "code",
   "execution_count": 214,
   "metadata": {},
   "outputs": [],
   "source": [
    "import xgboost as xgb"
   ]
  },
  {
   "cell_type": "code",
   "execution_count": 215,
   "metadata": {},
   "outputs": [
    {
     "name": "stdout",
     "output_type": "stream",
     "text": [
      "[11:08:56] WARNING: C:/buildkite-agent/builds/buildkite-windows-cpu-autoscaling-group-i-08de971ced8a8cdc6-1/xgboost/xgboost-ci-windows/src/objective/regression_obj.cu:213: reg:linear is now deprecated in favor of reg:squarederror.\n",
      "[0]\tvalidation_0-rmse:55.58202\tvalidation_1-rmse:61.54312\n",
      "[100]\tvalidation_0-rmse:21.25550\tvalidation_1-rmse:26.22697\n",
      "[200]\tvalidation_0-rmse:9.52672\tvalidation_1-rmse:14.04023\n",
      "[300]\tvalidation_0-rmse:6.16633\tvalidation_1-rmse:9.69153\n",
      "[400]\tvalidation_0-rmse:5.40043\tvalidation_1-rmse:8.16762\n",
      "[500]\tvalidation_0-rmse:5.16768\tvalidation_1-rmse:7.58953\n",
      "[600]\tvalidation_0-rmse:5.03181\tvalidation_1-rmse:7.46574\n",
      "[700]\tvalidation_0-rmse:4.90509\tvalidation_1-rmse:7.40598\n",
      "[800]\tvalidation_0-rmse:4.79009\tvalidation_1-rmse:7.38377\n",
      "[848]\tvalidation_0-rmse:4.74410\tvalidation_1-rmse:7.39368\n"
     ]
    },
    {
     "data": {
      "text/html": [
       "<style>#sk-container-id-2 {color: black;background-color: white;}#sk-container-id-2 pre{padding: 0;}#sk-container-id-2 div.sk-toggleable {background-color: white;}#sk-container-id-2 label.sk-toggleable__label {cursor: pointer;display: block;width: 100%;margin-bottom: 0;padding: 0.3em;box-sizing: border-box;text-align: center;}#sk-container-id-2 label.sk-toggleable__label-arrow:before {content: \"▸\";float: left;margin-right: 0.25em;color: #696969;}#sk-container-id-2 label.sk-toggleable__label-arrow:hover:before {color: black;}#sk-container-id-2 div.sk-estimator:hover label.sk-toggleable__label-arrow:before {color: black;}#sk-container-id-2 div.sk-toggleable__content {max-height: 0;max-width: 0;overflow: hidden;text-align: left;background-color: #f0f8ff;}#sk-container-id-2 div.sk-toggleable__content pre {margin: 0.2em;color: black;border-radius: 0.25em;background-color: #f0f8ff;}#sk-container-id-2 input.sk-toggleable__control:checked~div.sk-toggleable__content {max-height: 200px;max-width: 100%;overflow: auto;}#sk-container-id-2 input.sk-toggleable__control:checked~label.sk-toggleable__label-arrow:before {content: \"▾\";}#sk-container-id-2 div.sk-estimator input.sk-toggleable__control:checked~label.sk-toggleable__label {background-color: #d4ebff;}#sk-container-id-2 div.sk-label input.sk-toggleable__control:checked~label.sk-toggleable__label {background-color: #d4ebff;}#sk-container-id-2 input.sk-hidden--visually {border: 0;clip: rect(1px 1px 1px 1px);clip: rect(1px, 1px, 1px, 1px);height: 1px;margin: -1px;overflow: hidden;padding: 0;position: absolute;width: 1px;}#sk-container-id-2 div.sk-estimator {font-family: monospace;background-color: #f0f8ff;border: 1px dotted black;border-radius: 0.25em;box-sizing: border-box;margin-bottom: 0.5em;}#sk-container-id-2 div.sk-estimator:hover {background-color: #d4ebff;}#sk-container-id-2 div.sk-parallel-item::after {content: \"\";width: 100%;border-bottom: 1px solid gray;flex-grow: 1;}#sk-container-id-2 div.sk-label:hover label.sk-toggleable__label {background-color: #d4ebff;}#sk-container-id-2 div.sk-serial::before {content: \"\";position: absolute;border-left: 1px solid gray;box-sizing: border-box;top: 0;bottom: 0;left: 50%;z-index: 0;}#sk-container-id-2 div.sk-serial {display: flex;flex-direction: column;align-items: center;background-color: white;padding-right: 0.2em;padding-left: 0.2em;position: relative;}#sk-container-id-2 div.sk-item {position: relative;z-index: 1;}#sk-container-id-2 div.sk-parallel {display: flex;align-items: stretch;justify-content: center;background-color: white;position: relative;}#sk-container-id-2 div.sk-item::before, #sk-container-id-2 div.sk-parallel-item::before {content: \"\";position: absolute;border-left: 1px solid gray;box-sizing: border-box;top: 0;bottom: 0;left: 50%;z-index: -1;}#sk-container-id-2 div.sk-parallel-item {display: flex;flex-direction: column;z-index: 1;position: relative;background-color: white;}#sk-container-id-2 div.sk-parallel-item:first-child::after {align-self: flex-end;width: 50%;}#sk-container-id-2 div.sk-parallel-item:last-child::after {align-self: flex-start;width: 50%;}#sk-container-id-2 div.sk-parallel-item:only-child::after {width: 0;}#sk-container-id-2 div.sk-dashed-wrapped {border: 1px dashed gray;margin: 0 0.4em 0.5em 0.4em;box-sizing: border-box;padding-bottom: 0.4em;background-color: white;}#sk-container-id-2 div.sk-label label {font-family: monospace;font-weight: bold;display: inline-block;line-height: 1.2em;}#sk-container-id-2 div.sk-label-container {text-align: center;}#sk-container-id-2 div.sk-container {/* jupyter's `normalize.less` sets `[hidden] { display: none; }` but bootstrap.min.css set `[hidden] { display: none !important; }` so we also need the `!important` here to be able to override the default hidden behavior on the sphinx rendered scikit-learn.org. See: https://github.com/scikit-learn/scikit-learn/issues/21755 */display: inline-block !important;position: relative;}#sk-container-id-2 div.sk-text-repr-fallback {display: none;}</style><div id=\"sk-container-id-2\" class=\"sk-top-container\"><div class=\"sk-text-repr-fallback\"><pre>XGBRegressor(base_score=0.5, booster=&#x27;gbtree&#x27;, callbacks=None,\n",
       "             colsample_bylevel=None, colsample_bynode=None,\n",
       "             colsample_bytree=None, early_stopping_rounds=50,\n",
       "             enable_categorical=False, eval_metric=None, feature_types=None,\n",
       "             gamma=None, gpu_id=None, grow_policy=None, importance_type=None,\n",
       "             interaction_constraints=None, learning_rate=0.01, max_bin=None,\n",
       "             max_cat_threshold=None, max_cat_to_onehot=None,\n",
       "             max_delta_step=None, max_depth=3, max_leaves=None,\n",
       "             min_child_weight=None, missing=nan, monotone_constraints=None,\n",
       "             n_estimators=1000, n_jobs=None, num_parallel_tree=None,\n",
       "             objective=&#x27;reg:linear&#x27;, predictor=None, ...)</pre><b>In a Jupyter environment, please rerun this cell to show the HTML representation or trust the notebook. <br />On GitHub, the HTML representation is unable to render, please try loading this page with nbviewer.org.</b></div><div class=\"sk-container\" hidden><div class=\"sk-item\"><div class=\"sk-estimator sk-toggleable\"><input class=\"sk-toggleable__control sk-hidden--visually\" id=\"sk-estimator-id-2\" type=\"checkbox\" checked><label for=\"sk-estimator-id-2\" class=\"sk-toggleable__label sk-toggleable__label-arrow\">XGBRegressor</label><div class=\"sk-toggleable__content\"><pre>XGBRegressor(base_score=0.5, booster=&#x27;gbtree&#x27;, callbacks=None,\n",
       "             colsample_bylevel=None, colsample_bynode=None,\n",
       "             colsample_bytree=None, early_stopping_rounds=50,\n",
       "             enable_categorical=False, eval_metric=None, feature_types=None,\n",
       "             gamma=None, gpu_id=None, grow_policy=None, importance_type=None,\n",
       "             interaction_constraints=None, learning_rate=0.01, max_bin=None,\n",
       "             max_cat_threshold=None, max_cat_to_onehot=None,\n",
       "             max_delta_step=None, max_depth=3, max_leaves=None,\n",
       "             min_child_weight=None, missing=nan, monotone_constraints=None,\n",
       "             n_estimators=1000, n_jobs=None, num_parallel_tree=None,\n",
       "             objective=&#x27;reg:linear&#x27;, predictor=None, ...)</pre></div></div></div></div></div>"
      ],
      "text/plain": [
       "XGBRegressor(base_score=0.5, booster='gbtree', callbacks=None,\n",
       "             colsample_bylevel=None, colsample_bynode=None,\n",
       "             colsample_bytree=None, early_stopping_rounds=50,\n",
       "             enable_categorical=False, eval_metric=None, feature_types=None,\n",
       "             gamma=None, gpu_id=None, grow_policy=None, importance_type=None,\n",
       "             interaction_constraints=None, learning_rate=0.01, max_bin=None,\n",
       "             max_cat_threshold=None, max_cat_to_onehot=None,\n",
       "             max_delta_step=None, max_depth=3, max_leaves=None,\n",
       "             min_child_weight=None, missing=nan, monotone_constraints=None,\n",
       "             n_estimators=1000, n_jobs=None, num_parallel_tree=None,\n",
       "             objective='reg:linear', predictor=None, ...)"
      ]
     },
     "execution_count": 215,
     "metadata": {},
     "output_type": "execute_result"
    }
   ],
   "source": [
    "reg = xgb.XGBRegressor(base_score=0.5, booster='gbtree',    \n",
    "                       n_estimators=1000,\n",
    "                       early_stopping_rounds=50,\n",
    "                       objective='reg:linear',\n",
    "                       max_depth=3,\n",
    "                       learning_rate=0.01)\n",
    "reg.fit(X_train, y_train,\n",
    "        eval_set=[(X_train, y_train), (X_test, y_test)],\n",
    "        verbose=100)"
   ]
  },
  {
   "cell_type": "code",
   "execution_count": 216,
   "metadata": {},
   "outputs": [
    {
     "data": {
      "image/png": "[encoded data removed]",
      "text/plain": [
       "<Figure size 640x480 with 1 Axes>"
      ]
     },
     "metadata": {},
     "output_type": "display_data"
    }
   ],
   "source": [
    "fi = pd.DataFrame(data=reg.feature_importances_,\n",
    "             index=reg.feature_names_in_,\n",
    "             columns=['importance'])\n",
    "fi.sort_values('importance').plot(kind='barh', title='Feature Importance')\n",
    "plt.show()"
   ]
  },
  {
   "cell_type": "code",
   "execution_count": null,
   "metadata": {},
   "outputs": [],
   "source": []
  },
  {
   "cell_type": "code",
   "execution_count": 220,
   "metadata": {},
   "outputs": [
    {
     "name": "stderr",
     "output_type": "stream",
     "text": [
      "C:\\Users\\LAAUMAR\\AppData\\Local\\Temp\\ipykernel_4592\\2069661187.py:3: SettingWithCopyWarning: \n",
      "A value is trying to be set on a copy of a slice from a DataFrame.\n",
      "Try using .loc[row_indexer,col_indexer] = value instead\n",
      "\n",
      "See the caveats in the documentation: https://pandas.pydata.org/pandas-docs/stable/user_guide/indexing.html#returning-a-view-versus-a-copy\n",
      "  test['prediction'] = reg.predict(X_test)\n"
     ]
    }
   ],
   "source": [
    "test = test\n",
    "train = train\n",
    "test['prediction'] = reg.predict(X_test)\n",
    "df_total = train.merge(test[['prediction']], how='left', left_index=True, right_index=True)\n",
    "#ax = df_total[['Temp_avg']].plot(figsize=(15, 5))\n",
    "#df_total['prediction'].plot(ax=ax, style='-')\n",
    "#plt.legend(['Truth Data', 'Predictions'])\n",
    "#ax.set_title('Raw Dat and Prediction')\n",
    "#plt.show()"
   ]
  },
  {
   "cell_type": "code",
   "execution_count": 221,
   "metadata": {},
   "outputs": [
    {
     "data": {
      "text/plain": [
       "[<matplotlib.lines.Line2D at 0x2389cbb1570>]"
      ]
     },
     "execution_count": 221,
     "metadata": {},
     "output_type": "execute_result"
    },
    {
     "data": {
      "image/png": "[encoded data removed]",
      "text/plain": [
       "<Figure size 640x480 with 1 Axes>"
      ]
     },
     "metadata": {},
     "output_type": "display_data"
    }
   ],
   "source": [
    "plt.plot(y_test)\n",
    "plt.plot(test['prediction'])"
   ]
  },
  {
   "cell_type": "code",
   "execution_count": 222,
   "metadata": {},
   "outputs": [],
   "source": [
    "from sklearn.metrics import mean_absolute_error\n",
    "import numpy as np"
   ]
  },
  {
   "cell_type": "code",
   "execution_count": 223,
   "metadata": {},
   "outputs": [
    {
     "name": "stdout",
     "output_type": "stream",
     "text": [
      "MAE Score on Test set: 2.43\n"
     ]
    }
   ],
   "source": [
    "score = np.sqrt(mean_absolute_error(y_test, test['prediction']))\n",
    "print(f'MAE Score on Test set: {score:0.2f}')"
   ]
  },
  {
   "cell_type": "code",
   "execution_count": 110,
   "metadata": {},
   "outputs": [],
   "source": [
    "#test.index = test['index']"
   ]
  },
  {
   "cell_type": "code",
   "execution_count": 224,
   "metadata": {},
   "outputs": [
    {
     "name": "stderr",
     "output_type": "stream",
     "text": [
      "C:\\Users\\LAAUMAR\\AppData\\Local\\Temp\\ipykernel_4592\\3393641776.py:1: SettingWithCopyWarning: \n",
      "A value is trying to be set on a copy of a slice from a DataFrame.\n",
      "Try using .loc[row_indexer,col_indexer] = value instead\n",
      "\n",
      "See the caveats in the documentation: https://pandas.pydata.org/pandas-docs/stable/user_guide/indexing.html#returning-a-view-versus-a-copy\n",
      "  test['error'] = np.abs(test[TARGET] - test['prediction'])\n",
      "C:\\Users\\LAAUMAR\\AppData\\Local\\Temp\\ipykernel_4592\\3393641776.py:2: SettingWithCopyWarning: \n",
      "A value is trying to be set on a copy of a slice from a DataFrame.\n",
      "Try using .loc[row_indexer,col_indexer] = value instead\n",
      "\n",
      "See the caveats in the documentation: https://pandas.pydata.org/pandas-docs/stable/user_guide/indexing.html#returning-a-view-versus-a-copy\n",
      "  test['date'] = test.index\n"
     ]
    },
    {
     "data": {
      "text/plain": [
       "date\n",
       "2023-01-01    19.367653\n",
       "2022-12-20    18.738515\n",
       "2023-01-08    18.174062\n",
       "2023-01-07    16.768523\n",
       "2022-09-18    16.504022\n",
       "2022-12-21    15.958823\n",
       "2022-12-19    15.938515\n",
       "2022-09-17    15.825795\n",
       "2022-08-04    15.337929\n",
       "2022-12-22    15.190648\n",
       "Name: error, dtype: float64"
      ]
     },
     "execution_count": 224,
     "metadata": {},
     "output_type": "execute_result"
    }
   ],
   "source": [
    "test['error'] = np.abs(test[TARGET] - test['prediction'])\n",
    "test['date'] = test.index\n",
    "test.groupby(['date'])['error'].mean().sort_values(ascending=False).head(10)"
   ]
  },
  {
   "cell_type": "code",
   "execution_count": 225,
   "metadata": {},
   "outputs": [
    {
     "data": {
      "text/plain": [
       "array([71.82759], dtype=float32)"
      ]
     },
     "execution_count": 225,
     "metadata": {},
     "output_type": "execute_result"
    }
   ],
   "source": [
    "reg.predict(np.array([180, 5, 2, 6, 2024]).reshape(1,5))"
   ]
  }
 ],
 "metadata": {
  "kernelspec": {
   "display_name": ".venv",
   "language": "python",
   "name": "python3"
  },
  "language_info": {
   "codemirror_mode": {
    "name": "ipython",
    "version": 3
   },
   "file_extension": ".py",
   "mimetype": "text/x-python",
   "name": "python",
   "nbconvert_exporter": "python",
   "pygments_lexer": "ipython3",
   "version": "3.8.8 (default, Apr 13 2021, 15:08:03) [MSC v.1916 64 bit (AMD64)]"
  },
  "orig_nbformat": 4,
  "vscode": {
   "interpreter": {
    "hash": "78de8782e6bf1a30fbd399306a38aa0614e73d9a8416f6e1700a0fdf04651002"
   }
  }
 },
 "nbformat": 4,
 "nbformat_minor": 2
}
